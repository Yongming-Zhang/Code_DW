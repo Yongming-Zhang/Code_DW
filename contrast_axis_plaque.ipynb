{
 "cells": [
  {
   "cell_type": "code",
   "execution_count": 35,
   "metadata": {},
   "outputs": [
    {
     "name": "stdout",
     "output_type": "stream",
     "text": [
      "/mnt/users/ffr_datasets/ffr_cpr_mask_newmap/1036604_60_0416/65669469_CTA/mask_plaque_round60.nii.gz\n",
      "(197, 512, 512)\n",
      "[0. 1.]\n"
     ]
    },
    {
     "data": {
      "application/vnd.jupyter.widget-view+json": {
       "model_id": "692fc034bf254715b135c636c0ad671f",
       "version_major": 2,
       "version_minor": 0
      },
      "text/plain": [
       "Viewer(geometries=[], gradient_opacity=0.22, point_set_colors=array([[0.8392157 , 0.        , 0.        ],\n",
       "   …"
      ]
     },
     "metadata": {},
     "output_type": "display_data"
    }
   ],
   "source": [
    "import numpy as np\n",
    "import nibabel as nib\n",
    "import itk\n",
    "from itkwidgets import view\n",
    "import glob\n",
    "import os\n",
    "import SimpleITK as sitk\n",
    "\n",
    "def show_data(path):\n",
    "    print(path)\n",
    "    img = sitk.ReadImage(path)\n",
    "    data = sitk.GetArrayFromImage(img)\n",
    "    print(data.shape)\n",
    "    data = np.unique(data)\n",
    "    print(data)\n",
    "    \n",
    "series_name = '1036604/65669469'#1036604/65669469 6566EAC0 1036602/EE59F1EA\n",
    "vessel_name = glob.glob(os.path.join('/mnt/DrwiseDataNFS/drwise_runtime_env/data1/inputdata/', series_name.split('/')[0]+'_60_0416', '*', series_name.split('/')[1]+'_CTA', 'mask_source/mask_vessel.nii.gz'))\n",
    "vessel_plaque_nii = nib.load(vessel_name[0])\n",
    "vessel_remove_plaque_nii = nib.load('/mnt/users/ffr_datasets/ffr_cpr_mask_newmap/'+series_name.split('/')[0]+'_60_0416/'+series_name.split('/')[1]+'_CTA/mask_vessel-plaque_round60.nii.gz')\n",
    "direct_plaque_nii = nib.load('/mnt/users/ffr_datasets/ffr_cpr_mask_newmap/'+series_name.split('/')[0]+'_60_0416/'+series_name.split('/')[1]+'_CTA/mask_plaque_round60.nii.gz')\n",
    "plaque_nii = nib.load('/mnt/users/ffr_datasets/ffr_cpr_mask_newmap/'+series_name+'_CTA/mask_plaque_direct.nii.gz')\n",
    "mask_pipeline_vessel_plaque_nii = nib.load('/mnt/users/ffr_datasets/ffr_cpr_mask_newmap/'+series_name.split('/')[0]+'_60_0416/'+series_name.split('/')[1]+'_CTA/mask_pipeline_vessel_plaque_middlepoint.nii.gz')\n",
    "show_data('/mnt/users/ffr_datasets/ffr_cpr_mask_newmap/'+series_name.split('/')[0]+'_60_0416/'+series_name.split('/')[1]+'_CTA/mask_plaque_round60.nii.gz')\n",
    "vessel_plaque = vessel_plaque_nii.get_fdata()\n",
    "vessel_remove_plaque = vessel_remove_plaque_nii.get_fdata()\n",
    "direct_plaque = direct_plaque_nii.get_fdata()\n",
    "plaque = plaque_nii.get_fdata()\n",
    "mask_pipeline_vessel_plaque = mask_pipeline_vessel_plaque_nii.get_fdata()\n",
    "pts0 = np.stack(np.where(vessel_plaque>0), axis=1)\n",
    "pts1 = np.stack(np.where(vessel_remove_plaque>0), axis=1)\n",
    "pts2_int = np.stack(np.where(direct_plaque>0), axis=1)\n",
    "pts_d = np.stack(np.where(plaque>0), axis=1)\n",
    "pts3_v = np.stack(np.where(mask_pipeline_vessel_plaque==1), axis=1)\n",
    "pts3_p = np.stack(np.where(mask_pipeline_vessel_plaque==2), axis=1)\n",
    "view(point_sets=[pts0, pts1, pts2_int, pts3_v, pts3_p])"
   ]
  },
  {
   "cell_type": "code",
   "execution_count": 36,
   "metadata": {},
   "outputs": [
    {
     "name": "stdout",
     "output_type": "stream",
     "text": [
      "/mnt/users/ffr_datasets/ffr_cpr_mask_newmap/1036604_20_0416/65669469_CTA/mask_plaque_round20.nii.gz\n",
      "(197, 512, 512)\n",
      "[0. 1.]\n"
     ]
    },
    {
     "data": {
      "application/vnd.jupyter.widget-view+json": {
       "model_id": "db38060d9b1a45ad821c67d32b2da4ac",
       "version_major": 2,
       "version_minor": 0
      },
      "text/plain": [
       "Viewer(geometries=[], gradient_opacity=0.22, point_set_colors=array([[0.8392157 , 0.        , 0.        ],\n",
       "   …"
      ]
     },
     "metadata": {},
     "output_type": "display_data"
    }
   ],
   "source": [
    "series_name = '1036604/65669469'#1036604/65669469 6566EAC0 1036602/EE59F1EA\n",
    "vessel_name = glob.glob(os.path.join('/mnt/DrwiseDataNFS/drwise_runtime_env/data1/inputdata/', series_name.split('/')[0]+'_20_0416', '*', series_name.split('/')[1]+'_CTA', 'mask_source/mask_vessel.nii.gz'))\n",
    "vessel_plaque_nii = nib.load(vessel_name[0])\n",
    "vessel_remove_plaque_nii = nib.load('/mnt/users/ffr_datasets/ffr_cpr_mask_newmap/'+series_name.split('/')[0]+'_20_0416/'+series_name.split('/')[1]+'_CTA/mask_vessel-plaque_round20.nii.gz')\n",
    "direct_plaque_nii = nib.load('/mnt/users/ffr_datasets/ffr_cpr_mask_newmap/'+series_name.split('/')[0]+'_20_0416/'+series_name.split('/')[1]+'_CTA/mask_plaque_round20.nii.gz')\n",
    "show_data('/mnt/users/ffr_datasets/ffr_cpr_mask_newmap/'+series_name.split('/')[0]+'_20_0416/'+series_name.split('/')[1]+'_CTA/mask_plaque_round20.nii.gz')\n",
    "vessel_plaque = vessel_plaque_nii.get_fdata()\n",
    "vessel_remove_plaque = vessel_remove_plaque_nii.get_fdata()\n",
    "direct_plaque = direct_plaque_nii.get_fdata()\n",
    "\n",
    "pts0 = np.stack(np.where(vessel_plaque>0), axis=1)\n",
    "pts3_int = np.stack(np.where(vessel_remove_plaque>0), axis=1)\n",
    "pts4_int = np.stack(np.where(direct_plaque>0), axis=1)\n",
    "view(point_sets=[pts0, pts3_int, pts4_int])"
   ]
  },
  {
   "cell_type": "code",
   "execution_count": 37,
   "metadata": {},
   "outputs": [
    {
     "data": {
      "application/vnd.jupyter.widget-view+json": {
       "model_id": "fc81c402ceb249eb85389ad2633e8353",
       "version_major": 2,
       "version_minor": 0
      },
      "text/plain": [
       "Viewer(geometries=[], gradient_opacity=0.22, point_set_colors=array([[0.8392157 , 0.        , 0.        ],\n",
       "   …"
      ]
     },
     "metadata": {},
     "output_type": "display_data"
    }
   ],
   "source": [
    "view(point_sets=[pts0, pts2_int, pts4_int])"
   ]
  },
  {
   "cell_type": "code",
   "execution_count": null,
   "metadata": {},
   "outputs": [],
   "source": []
  }
 ],
 "metadata": {
  "kernelspec": {
   "display_name": "Python 3",
   "language": "python",
   "name": "python3"
  },
  "language_info": {
   "codemirror_mode": {
    "name": "ipython",
    "version": 3
   },
   "file_extension": ".py",
   "mimetype": "text/x-python",
   "name": "python",
   "nbconvert_exporter": "python",
   "pygments_lexer": "ipython3",
   "version": "3.7.7"
  }
 },
 "nbformat": 4,
 "nbformat_minor": 4
}
