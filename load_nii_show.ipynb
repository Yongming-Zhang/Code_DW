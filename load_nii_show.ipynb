{
 "cells": [
  {
   "cell_type": "code",
   "execution_count": 2,
   "metadata": {},
   "outputs": [
    {
     "data": {
      "application/vnd.jupyter.widget-view+json": {
       "model_id": "d808fd91d9c34ac98585eda251a49345",
       "version_major": 2,
       "version_minor": 0
      },
      "text/plain": [
       "Viewer(geometries=[], gradient_opacity=0.22, point_sets=[], rendered_image=<itk.itkImagePython.itkImageUC3; pr…"
      ]
     },
     "metadata": {},
     "output_type": "display_data"
    }
   ],
   "source": [
    "import SimpleITK as sitk\n",
    "import skimage.io as io\n",
    "from itkwidgets import view\n",
    "import itk\n",
    "from scipy import ndimage\n",
    "import numpy as np\n",
    "import os\n",
    "from scipy.io import loadmat\n",
    "\n",
    "def show_da(path):\n",
    "    print(path)\n",
    "    img = sitk.ReadImage(path)\n",
    "    data = sitk.GetArrayFromImage(img)\n",
    "    print(data.shape)\n",
    "    data = np.unique(data)\n",
    "    #if 255 in data or len(data) != 3:\n",
    "    print(data)\n",
    "    \n",
    "#path = '/mnt/BrainDataNFS/dataset/ccta/db_update/others/crop_cardiac_zoom/vessel/0987705_0002.nii.gz'\n",
    "origin_path = '/mnt/BrainDataNFS/dataset/ccta/db_update/others/crop_cardiac_zoom/image/1004540_0000.nii.gz'\n",
    "vessel_path = '/mnt/BrainDataNFS/dataset/ccta/db_update/others/crop_cardiac_zoom/vessel/1004540_0000.nii.gz'\n",
    "transformed_path = '/mnt/BrainDataNFS/dataset/ccta/db_update/others/crop_cardiac_zoom/transformed_vessel/1004540_0000.nii.gz'\n",
    "test_seg_path = '/mnt/users/code/torchseg/results/ccta_vessel/test/test_da_seresnet34_radius_weight15105_epoch50_20201103/1019729_seg_r.nii.gz'\n",
    "test_seg_radius_path = '/mnt/users/code/torchseg/results/ccta_vessel/test/test_da_seresnet18_seg_and_seg_radius_ce_weight15_patch64_20201010_test_debug/1036295_seg_r.nii.gz'\n",
    "test_path = '/mnt/BrainDataNFS/dataset/ccta/db_update/others/crop_cardiac_zoom/transformed_vessel_20201110/0987885_0002.nii.gz' #'/mnt/DrwiseDataNFS/drwise_runtime_env/data1/inputdata/1019729/9738C11F/5AD50FEB_CTA/masknorm_radius.nii.gz'\n",
    "#show_da(test_path)\n",
    "img = itk.imread('/mnt/users/code/torchseg/results/ccta_vessel/test/test_da_seresnet18_seg_and_seg_radius_ce_weight15_patch64_20201010_test_debug/1036295_seg_r.nii.gz')\n",
    "view(img)\n",
    "#img = np.asarray(img)\n",
    "#pts = np.stack(np.where(img>1),axis=1)#[:10000,:10000]\n",
    "#view(point_sets=[pts]) "
   ]
  },
  {
   "cell_type": "code",
   "execution_count": null,
   "metadata": {},
   "outputs": [],
   "source": []
  }
 ],
 "metadata": {
  "kernelspec": {
   "display_name": "Python 3",
   "language": "python",
   "name": "python3"
  },
  "language_info": {
   "codemirror_mode": {
    "name": "ipython",
    "version": 3
   },
   "file_extension": ".py",
   "mimetype": "text/x-python",
   "name": "python",
   "nbconvert_exporter": "python",
   "pygments_lexer": "ipython3",
   "version": "3.7.7"
  }
 },
 "nbformat": 4,
 "nbformat_minor": 4
}
