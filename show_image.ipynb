{
 "cells": [
  {
   "cell_type": "code",
   "execution_count": 25,
   "metadata": {},
   "outputs": [
    {
     "name": "stdout",
     "output_type": "stream",
     "text": [
      "(1024, 1024)\n"
     ]
    },
    {
     "data": {
      "text/plain": [
       "<matplotlib.image.AxesImage at 0x7f7a14a16fd0>"
      ]
     },
     "execution_count": 25,
     "metadata": {},
     "output_type": "execute_result"
    },
    {
     "data": {
      "image/png": "[encoded data removed]",
      "text/plain": [
       "<Figure size 432x288 with 1 Axes>"
      ]
     },
     "metadata": {
      "needs_background": "light"
     },
     "output_type": "display_data"
    }
   ],
   "source": [
    "import matplotlib.pyplot as plt\n",
    "#%matplotlib inline\n",
    "from PIL import Image\n",
    "import numpy as np\n",
    "import cv2 \n",
    "import torch\n",
    "\n",
    "path = '/mnt/data/chest_xray/train/PNEUMONIA/BACTERIA-6791804-0002.jpeg'\n",
    "paths = '/mnt/data/rsna-pneumonia-detection-challenge/new_stage_2_train_images_jpg/train/PNEUMONIA/aa9d099a-3a55-4fc8-81c5-9963bd04e9f7.jpg'\n",
    "img = Image.open(paths)\n",
    "plt.imshow(img)\n",
    "img = np.array(img)\n",
    "print(img.shape)\n",
    "a = np.load('/mnt/users/a.npy')\n",
    "plt.imshow(a)"
   ]
  },
  {
   "cell_type": "code",
   "execution_count": null,
   "metadata": {},
   "outputs": [],
   "source": []
  }
 ],
 "metadata": {
  "kernelspec": {
   "display_name": "Python 3",
   "language": "python",
   "name": "python3"
  },
  "language_info": {
   "codemirror_mode": {
    "name": "ipython",
    "version": 3
   },
   "file_extension": ".py",
   "mimetype": "text/x-python",
   "name": "python",
   "nbconvert_exporter": "python",
   "pygments_lexer": "ipython3",
   "version": "3.7.7"
  }
 },
 "nbformat": 4,
 "nbformat_minor": 4
}
