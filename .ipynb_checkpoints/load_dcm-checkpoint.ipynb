{
 "cells": [
  {
   "cell_type": "code",
   "execution_count": 2,
   "metadata": {},
   "outputs": [
    {
     "name": "stdout",
     "output_type": "stream",
     "text": [
      "['AccessionNumber', 'AcquisitionDate', 'AcquisitionDateTime', 'AcquisitionNumber', 'AcquisitionTime', 'Allergies', 'BitsAllocated', 'BitsStored', 'BodyPartExamined', 'CTDIPhantomTypeCodeSequence', 'CTDIvol', 'CalciumScoringMassFactorDevice', 'Columns', 'ContentDate', 'ContentTime', 'ContrastBolusAgent', 'ContrastBolusIngredientConcentration', 'ContrastBolusStartTime', 'ContrastBolusStopTime', 'ContrastBolusTotalDose', 'ContrastBolusVolume', 'ContrastFlowDuration', 'ContrastFlowRate', 'ConvolutionKernel', 'DataCollectionCenterPatient', 'DataCollectionDiameter', 'DateOfLastCalibration', 'DeviceSerialNumber', 'DistanceSourceToDetector', 'DistanceSourceToPatient', 'EstimatedDoseSaving', 'Exposure', 'ExposureModulationType', 'ExposureTime', 'FilterType', 'FocalSpots', 'FrameOfReferenceUID', 'GantryDetectorTilt', 'GeneratorPower', 'HighBit', 'ImageComments', 'ImageOrientationPatient', 'ImagePositionPatient', 'ImageType', 'InstanceNumber', 'InstitutionAddress', 'InstitutionName', 'InstitutionalDepartmentName', 'IrradiationEventUID', 'IssuerOfPatientID', 'KVP', 'LargestImagePixelValue', 'Manufacturer', 'ManufacturerModelName', 'Modality', 'OperatorsName', 'PatientAddress', 'PatientAge', 'PatientBirthDate', 'PatientBirthTime', 'PatientComments', 'PatientID', 'PatientName', 'PatientPosition', 'PatientSex', 'PerformingPhysicianName', 'PhotometricInterpretation', 'PhysiciansOfRecord', 'PixelData', 'PixelRepresentation', 'PixelSpacing', 'PositionReferenceIndicator', 'PregnancyStatus', 'ProtocolName', 'ReconstructionDiameter', 'ReconstructionTargetCenterPatient', 'ReferencedImageSequence', 'ReferringPhysicianName', 'RequestAttributesSequence', 'RequestedProcedureDescription', 'RequestingPhysician', 'RescaleIntercept', 'RescaleSlope', 'RescaleType', 'RotationDirection', 'Rows', 'SOPClassUID', 'SOPInstanceUID', 'SamplesPerPixel', 'ScanOptions', 'SeriesDate', 'SeriesDescription', 'SeriesInstanceUID', 'SeriesNumber', 'SeriesTime', 'SingleCollimationWidth', 'SliceLocation', 'SliceThickness', 'SmallestImagePixelValue', 'SoftwareVersions', 'SourceImageSequence', 'SpecificCharacterSet', 'SpiralPitchFactor', 'StationName', 'StudyDate', 'StudyDescription', 'StudyID', 'StudyInstanceUID', 'StudyTime', 'TableHeight', 'TimeOfLastCalibration', 'TotalCollimationWidth', 'WindowCenter', 'WindowCenterWidthExplanation', 'WindowWidth', 'XRayTubeCurrent']\n",
      "197\n"
     ]
    }
   ],
   "source": [
    "#-*- coding:utf-8 -*-\n",
    "import SimpleITK as sitk \n",
    "import pydicom\n",
    "from pydicom import dcmread, dicomio\n",
    "\n",
    "\n",
    "path_dicm = '/mnt/users/drwise_runtime_env_0630/data1/inputdata/1004812/058AD1E9/259A3499'\n",
    "# GetGDCMSeriesIDs读取序列号相同的dcm文件\n",
    "ds = dicomio.read_file('/mnt/users/drwise_runtime_env_0630/data1/inputdata/1004812/058AD1E9/259A3499/99.dcm')\n",
    "print(ds.dir())\n",
    "series_id = sitk.ImageSeriesReader.GetGDCMSeriesIDs(path_dicm)\n",
    "# GetGDCMSeriesFileNames读取序列号相同dcm文件的路径，series[0]代表第一个序列号对应的文件\n",
    "series_file_names = sitk.ImageSeriesReader.GetGDCMSeriesFileNames(path_dicm, series_id[0])\n",
    "print(len(series_file_names))\n",
    "series_reader = sitk.ImageSeriesReader()\n",
    "series_reader.SetFileNames(series_file_names)\n",
    "image3d = series_reader.Execute()\n"
   ]
  }
 ],
 "metadata": {
  "kernelspec": {
   "display_name": "Python 3",
   "language": "python",
   "name": "python3"
  },
  "language_info": {
   "codemirror_mode": {
    "name": "ipython",
    "version": 3
   },
   "file_extension": ".py",
   "mimetype": "text/x-python",
   "name": "python",
   "nbconvert_exporter": "python",
   "pygments_lexer": "ipython3",
   "version": "3.7.7"
  }
 },
 "nbformat": 4,
 "nbformat_minor": 4
}
