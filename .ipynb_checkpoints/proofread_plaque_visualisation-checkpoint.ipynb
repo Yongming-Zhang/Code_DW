{
 "cells": [
  {
   "cell_type": "code",
   "execution_count": null,
   "metadata": {},
   "outputs": [],
   "source": [
    "import numpy as np\n",
    "import os\n",
    "import glob\n",
    "import SimpleITK as sitk\n",
    "from skimage import measure\n",
    "import nibabel as nib\n",
    "import itk\n",
    "from itkwidgets import view\n",
    "import seaborn as sns\n",
    "from mitok.utils.mdicom import SERIES\n",
    "\n",
    "def connected_domain(image, mask=True):\n",
    "    cca = sitk.ConnectedComponentImageFilter()\n",
    "    cca.SetFullyConnected(True)\n",
    "    _input = sitk.GetImageFromArray(image.astype(np.uint8))\n",
    "    output_ex = cca.Execute(_input)\n",
    "    stats = sitk.LabelShapeStatisticsImageFilter()\n",
    "    stats.Execute(output_ex)\n",
    "    num_label = cca.GetObjectCount()\n",
    "    num_list = [i for i in range(1, num_label+1)]\n",
    "    area_list = []\n",
    "    for l in range(1, num_label +1):\n",
    "        area_list.append(stats.GetNumberOfPixels(l))\n",
    "    num_list_sorted = sorted(num_list, key=lambda x: area_list[x-1])[::-1]\n",
    "    largest_area = area_list[num_list_sorted[0] - 1]\n",
    "    final_label_list = [num_list_sorted[0]]\n",
    "\n",
    "    for idx, i in enumerate(num_list_sorted[1:]):\n",
    "        if area_list[i-1] >= (largest_area//10):\n",
    "            final_label_list.append(i)\n",
    "        else:\n",
    "            break\n",
    "    output = sitk.GetArrayFromImage(output_ex)\n",
    "\n",
    "    for one_label in num_list:\n",
    "        if  one_label in final_label_list:\n",
    "            continue\n",
    "        x, y, z, w, h, d = stats.GetBoundingBox(one_label)\n",
    "        one_mask = (output[z: z + d, y: y + h, x: x + w] != one_label)\n",
    "        output[z: z + d, y: y + h, x: x + w] *= one_mask\n",
    "\n",
    "    if mask:\n",
    "        output = (output > 0).astype(np.uint8)\n",
    "    else:\n",
    "        output = ((output > 0)*255.).astype(np.uint8)\n",
    "    return output\n",
    "\n",
    "def connected_component(image):\n",
    "    # 标记输入的3D图像\n",
    "    label, num = measure.label(image, connectivity=2, return_num=True)\n",
    "    if num < 1:\n",
    "        return [], image\n",
    "        \n",
    "    # 获取对应的region对象\n",
    "    region = measure.regionprops(label)\n",
    "    # 获取每一块区域面积并排序\n",
    "    num_list = [i for i in range(1, num+1)]\n",
    "    area_list = [region[i-1].area for i in num_list]\n",
    "    num_list_sorted = sorted(num_list, key=lambda x: area_list[x-1])[::-1]\n",
    "    # 去除面积较小的连通域\n",
    "    '''\n",
    "    if len(num_list_sorted) > 3:\n",
    "        # for i in range(3, len(num_list_sorted)):\n",
    "        for i in num_list_sorted[3:]:\n",
    "            # label[label==i] = 0\n",
    "            label[region[i-1].slice][region[i-1].image] = 0\n",
    "        num_list_sorted = num_list_sorted[:3]\n",
    "    '''\n",
    "    return num_list_sorted, label\n",
    "   \n",
    "def np_count(nparray, x):\n",
    "    i = 0\n",
    "    for n in nparray:\n",
    "        if n == x:\n",
    "            i += 1\n",
    "    return i\n",
    "\n",
    "def remove_mix_region(num, volume, out_data):\n",
    "    after_num = []\n",
    "    after_volume = []\n",
    "    for i in range(len(num)):\n",
    "        if volume[i] > 0:\n",
    "            after_num.append(num[i])\n",
    "            after_volume.append(volume[i])\n",
    "        else:\n",
    "            out_data[out_data==num[i]] = 0\n",
    "    return after_num, after_volume, out_data\n",
    "\n",
    "\n",
    "def show_data(path):\n",
    "    print(path)\n",
    "    img = sitk.ReadImage(path)\n",
    "    data = sitk.GetArrayFromImage(img)\n",
    "    print(data.shape)\n",
    "    data = np.unique(data)\n",
    "    print(data)\n",
    "    \n",
    "plaque_path = '/mnt/users/transformed_plaque' \n",
    "proofread_plaque_path = '/mnt/users/transformed_plaque_proofread' \n",
    "plaque_list = os.listdir(plaque_path)\n",
    "for plaque in plaque_list:\n",
    "    plaque_dir = os.path.join(plaque_path, plaque)\n",
    "    series_list = os.listdir(plaque_dir)\n",
    "    for series in series_list:\n",
    "        series_dir = os.path.join(plaque_dir, series, 'mask_plaque.nii.gz')\n",
    "        print(series_dir)\n",
    "        data = sitk.ReadImage(series_dir)\n",
    "        data = sitk.GetArrayFromImage(data)\n",
    "        num, out_data = connected_component(data)\n",
    "        if len(num) != 0:\n",
    "            volume = []\n",
    "            for i in range(len(num)):\n",
    "                volume.append(np_count(out_data[np.nonzero(out_data)], num[i]))\n",
    "            print('原斑块为', num, volume)\n",
    "        else:\n",
    "            print('原来无斑块')\n",
    "            \n",
    "        proofread_series_dir = os.path.join(proofread_plaque_path, plaque, series, 'mask_plaque.nii.gz')\n",
    "        print(proofread_series_dir)\n",
    "        new_data = sitk.ReadImage(proofread_series_dir)\n",
    "        new_data = sitk.GetArrayFromImage(new_data)\n",
    "        num, out_data = connected_component(new_data)\n",
    "        if len(num) != 0:\n",
    "            volume = []\n",
    "            for i in range(len(num)):\n",
    "                volume.append(np_count(out_data[np.nonzero(out_data)], num[i]))\n",
    "            print('校对后的斑块为', num, volume)\n",
    "        else:\n",
    "            print('校对后无斑块')\n",
    "        "
   ]
  },
  {
   "cell_type": "code",
   "execution_count": 95,
   "metadata": {},
   "outputs": [
    {
     "data": {
      "application/vnd.jupyter.widget-view+json": {
       "model_id": "1a42968596a8438988bbb8d81824dcad",
       "version_major": 2,
       "version_minor": 0
      },
      "text/plain": [
       "Viewer(geometries=[], gradient_opacity=0.22, point_set_colors=array([[0.8392157 , 0.        , 0.        ],\n",
       "   …"
      ]
     },
     "metadata": {},
     "output_type": "display_data"
    }
   ],
   "source": [
    "series_name = '1073318/AF7B89E9'\n",
    "vessel_plaque_nii = nib.load('/mnt/users/transformed_bad_case/'+series_name+'/mask_vessel_plaque_proofread.nii.gz')\n",
    "vessel_plaque = vessel_plaque_nii.get_fdata()\n",
    "plque_nii = nib.load('/mnt/users/transformed_plaque/'+series_name+'/mask_plaque.nii.gz')\n",
    "proofread_plque_nii = nib.load('/mnt/users/transformed_plaque_proofread/'+series_name+'/mask_plaque.nii.gz')\n",
    "plaque = plque_nii.get_fdata()\n",
    "proofread_plaque = proofread_plque_nii.get_fdata()\n",
    "pts0 = np.stack(np.where(plaque>0), axis=1)\n",
    "pts1 = np.stack(np.where(proofread_plaque>0), axis=1)\n",
    "pts2 = np.stack(np.where(vessel_plaque>0), axis=1)\n",
    "pts3 = np.stack(np.where(vessel_plaque==1), axis=1)\n",
    "pts4 = np.stack(np.where(vessel_plaque==2), axis=1)\n",
    "view(point_sets=[pts2, pts3, pts4])"
   ]
  },
  {
   "cell_type": "code",
   "execution_count": 107,
   "metadata": {},
   "outputs": [
    {
     "data": {
      "application/vnd.jupyter.widget-view+json": {
       "model_id": "311ccd5930dd4268a84a4babc6a83709",
       "version_major": 2,
       "version_minor": 0
      },
      "text/plain": [
       "Viewer(geometries=[], gradient_opacity=0.22, point_set_colors=array([[0.8392157 , 0.        , 0.        ],\n",
       "   …"
      ]
     },
     "metadata": {},
     "output_type": "display_data"
    }
   ],
   "source": [
    "#series_name = '1022836/56847483'\n",
    "origin_vessel_plque_nii = nib.load('/mnt/users/ffr_plaque_mask/'+series_name+'/mask_vessel_plaque.nii.gz')\n",
    "origin_vessel_plque = origin_vessel_plque_nii.get_fdata()\n",
    "pts5 = np.stack(np.where(origin_vessel_plque>0), axis=1)\n",
    "pts6 = np.stack(np.where(origin_vessel_plque==1), axis=1)\n",
    "pts7 = np.stack(np.where(origin_vessel_plque==2), axis=1)\n",
    "view(point_sets=[pts5, pts6, pts7])"
   ]
  },
  {
   "cell_type": "code",
   "execution_count": 97,
   "metadata": {},
   "outputs": [
    {
     "data": {
      "application/vnd.jupyter.widget-view+json": {
       "model_id": "0ac8a6c839404041a19e9efa04425f67",
       "version_major": 2,
       "version_minor": 0
      },
      "text/plain": [
       "Viewer(geometries=[], gradient_opacity=0.22, point_set_colors=array([[0.8392157 , 0.        , 0.        ],\n",
       "   …"
      ]
     },
     "metadata": {},
     "output_type": "display_data"
    }
   ],
   "source": [
    "view(point_sets=[pts0, pts1])"
   ]
  },
  {
   "cell_type": "code",
   "execution_count": null,
   "metadata": {},
   "outputs": [],
   "source": []
  }
 ],
 "metadata": {
  "kernelspec": {
   "display_name": "Python 3",
   "language": "python",
   "name": "python3"
  },
  "language_info": {
   "codemirror_mode": {
    "name": "ipython",
    "version": 3
   },
   "file_extension": ".py",
   "mimetype": "text/x-python",
   "name": "python",
   "nbconvert_exporter": "python",
   "pygments_lexer": "ipython3",
   "version": "3.7.7"
  }
 },
 "nbformat": 4,
 "nbformat_minor": 4
}
