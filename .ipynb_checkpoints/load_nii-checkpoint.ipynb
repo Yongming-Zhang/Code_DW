{
 "cells": [
  {
   "cell_type": "code",
   "execution_count": 37,
   "metadata": {},
   "outputs": [
    {
     "data": {
      "application/vnd.jupyter.widget-view+json": {
       "model_id": "5afed0d6cbee4e899f397b3f2b42f127",
       "version_major": 2,
       "version_minor": 0
      },
      "text/plain": [
       "Viewer(geometries=[], gradient_opacity=0.22, point_set_colors=array([[0.8392157, 0.       , 0.       ]], dtype…"
      ]
     },
     "metadata": {},
     "output_type": "display_data"
    }
   ],
   "source": [
    "import SimpleITK as sitk\n",
    "import skimage.io as io\n",
    "from itkwidgets import view\n",
    "import itk\n",
    "from scipy import ndimage\n",
    "import numpy as np\n",
    "import os\n",
    "from scipy.io import loadmat\n",
    "from tqdm import tqdm\n",
    "\n",
    "def read_img(path):\n",
    "    img = sitk.ReadImage(path)\n",
    "    print(img.GetDepth())\n",
    "    print(img.GetSize())\n",
    "    data = sitk.GetArrayFromImage(img)\n",
    "    print(data.shape)\n",
    "    return data\n",
    " \n",
    "def show_img(ori_img):\n",
    "    io.imshow(ori_img[100])\n",
    "    io.show()\n",
    "    \n",
    "def show_imgs(data):\n",
    "    print('abc',data.shape)\n",
    "    for i in range(data.shape[0]):\n",
    "        io.imshow(data[i, :, :])#, cmap = 'gray'\n",
    "        print(i)\n",
    "        io.show()  \n",
    "\n",
    "def show_nii(path):\n",
    "    img = itk.imread(path)\n",
    "    view(img)\n",
    "\n",
    "def distance_transform(path, transformed_path):\n",
    "    path_list = os.listdir(path)\n",
    "    for pa in path_list:\n",
    "        img = sitk.ReadImage(path + pa)\n",
    "        data = sitk.GetArrayFromImage(img)\n",
    "        #nonzero_data = np.nonzero(data)\n",
    "        #print('data', data[nonzero_data])\n",
    "        transformed_data = ndimage.morphology.distance_transform_edt(data)\n",
    "        #print('transformed_data', transformed_data)\n",
    "        #nonzero_transformed_data = np.nonzero(transformed_data)\n",
    "        #print('transformed_data', transformed_data[nonzero_transformed_data])\n",
    "        out = sitk.GetImageFromArray(transformed_data)\n",
    "        # out.SetSpacing(transformed_data.GetSpacing())\n",
    "        # out.SetOrigin(transformed_data.GetOrigin())\n",
    "        sitk.WriteImage(out, transformed_path + '/' + pa)\n",
    "    \n",
    "path = '/mnt/BrainDataNFS/dataset/ccta/db_update/others/crop_cardiac_zoom/vessel/'\n",
    "origin_path = '/mnt/BrainDataNFS/dataset/ccta/db_update/others/crop_cardiac_zoom/image/1004540_0000.nii.gz'\n",
    "vessel_path = '/mnt/BrainDataNFS/dataset/ccta/db_update/others/crop_cardiac_zoom/vessel/1004540_0000.nii.gz'\n",
    "transformed_path = '/mnt/BrainDataNFS/dataset/ccta/db_update/others/crop_cardiac_zoom/transformed_vessel/1004540_0000.nii.gz'\n",
    "test_seg_path = '/mnt/users/code/torchseg/results/ccta_vessel/test/test_da_seresnet18_seg_and_seg_radius_class3_8_50_ce_radius_20200928_local/1004540_0000_seg.nii.gz'\n",
    "test_seg_radius_path = '/mnt/users/code/torchseg/results/ccta_vessel/test/test_da_seresnet18_seg_and_seg_radius_class3_8_50_ce_radius_20200928_local/1004540_0000_seg_r.nii.gz'\n",
    "img = itk.imread(test_seg_radius_path)\n",
    "#view(img)\n",
    "img = np.asarray(img)\n",
    "#print(np.unique(img))\n",
    "pts = np.stack(np.where(img==0),axis=1)#[:10000,:10000]\n",
    "view(point_sets=[pts])\n",
    "#distance_transform(path, transformed_path)\n",
    "#img = itk.imread(transformed_path)\n",
    "#view(img)\n",
    "#imgs = sitk.ReadImage(vessel_path)\n",
    "#data = sitk.GetArrayFromImage(imgs)\n",
    "#print('data', np.unique(data))\n",
    "#print('data', np.unique(data))\n",
    "#img = sitk.ReadImage(transformed_path)\n",
    "#transformed_data = sitk.GetArrayFromImage(img)\n",
    "#print('transformed_data', transformed_data)\n",
    "#nonzero_transformed_data = np.nonzero(transformed_data)\n",
    "#print('transformed_data', transformed_data[nonzero_transformed_data])\n",
    "#mat_path = '/mnt/BrainDataNFS/dataset/ccta/others/crop_cardiac_zoom/skeleton/0784735_0000.mat'\n",
    "#m = loadmat(mat_path)\n",
    "#print(m)\n",
    "#a = np.array(([0,1,10,1,1],\n",
    "#              [0,0,1,1,1],\n",
    "#              [0,1,1,1,1],\n",
    "#              [0,1,1,1,0],\n",
    "#              [0,1,1,0,0]))\n",
    "#b = ndimage.morphology.distance_transform_edt(a)\n",
    "#print(b)\n",
    "#data = read_img(path)\n",
    "#show_imgs(data)"
   ]
  },
  {
   "cell_type": "code",
   "execution_count": null,
   "metadata": {},
   "outputs": [],
   "source": []
  }
 ],
 "metadata": {
  "kernelspec": {
   "display_name": "Python 3",
   "language": "python",
   "name": "python3"
  },
  "language_info": {
   "codemirror_mode": {
    "name": "ipython",
    "version": 3
   },
   "file_extension": ".py",
   "mimetype": "text/x-python",
   "name": "python",
   "nbconvert_exporter": "python",
   "pygments_lexer": "ipython3",
   "version": "3.7.7"
  }
 },
 "nbformat": 4,
 "nbformat_minor": 4
}
